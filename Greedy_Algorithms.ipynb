{
  "nbformat": 4,
  "nbformat_minor": 0,
  "metadata": {
    "colab": {
      "name": "Greedy_Algorithms.ipynb",
      "provenance": [],
      "authorship_tag": "ABX9TyOzB+epga60e1+Tln5B+Asc",
      "include_colab_link": true
    },
    "kernelspec": {
      "name": "python3",
      "display_name": "Python 3"
    },
    "language_info": {
      "name": "python"
    }
  },
  "cells": [
    {
      "cell_type": "markdown",
      "metadata": {
        "id": "view-in-github",
        "colab_type": "text"
      },
      "source": [
        "<a href=\"https://colab.research.google.com/github/abm4github/My_DSA_preparation/blob/main/Greedy_Algorithms.ipynb\" target=\"_parent\"><img src=\"https://colab.research.google.com/assets/colab-badge.svg\" alt=\"Open In Colab\"/></a>"
      ]
    },
    {
      "cell_type": "markdown",
      "source": [
        "#DSA: Greedy Algorithm"
      ],
      "metadata": {
        "id": "e3smoD1XGcmt"
      }
    },
    {
      "cell_type": "markdown",
      "source": [
        "##freeCodeCamp"
      ],
      "metadata": {
        "id": "_pVie04LUxDY"
      }
    },
    {
      "cell_type": "markdown",
      "source": [
        "link of lecture: https://www.youtube.com/watch?v=bC7o8P_Ste4&t=28s"
      ],
      "metadata": {
        "id": "kc8sirheK_JJ"
      }
    },
    {
      "cell_type": "code",
      "source": [
        "\"\"\"\n",
        "Lit all Bulbs\n",
        "\n",
        "problem statement:\n",
        "\n",
        "A list comprising ones and zeros is provided, we need to make all the elements of the list into ones by using below condition:\n",
        "if you switch any element from 0 to 1 or 1 to zero, then the elements right to them, too gets switched.\n",
        "\n",
        "\n",
        "solution:\n",
        "\n",
        "if element is 1: continue\n",
        "else: (if zero) switch it to 1 and thereby all elements right to it.\n",
        "This turns all elements as 1's in the list.\n",
        "\"\"\""
      ],
      "metadata": {
        "id": "ka8rv0OmHoJ9"
      },
      "execution_count": null,
      "outputs": []
    },
    {
      "cell_type": "code",
      "source": [
        "def bulbs(c):\n",
        "  A = c\n",
        "  cost = 0 \n",
        "  for i in range(len(A)):\n",
        "    if A[i] == 0:\n",
        "      cost += 1\n",
        "      for j in range(i,len(A)):\n",
        "        A[j] = (A[j] * -1) + 1\n",
        "  return (cost, A)\n",
        "  \n",
        "bulbs([0,1,1,1,1,1,0,0,0,1,0,1,0,0,1])"
      ],
      "metadata": {
        "colab": {
          "base_uri": "https://localhost:8080/"
        },
        "id": "pm-7tUHvBNpx",
        "outputId": "3d60efd7-0e2a-42f1-95f8-d49f3aef8016"
      },
      "execution_count": 31,
      "outputs": [
        {
          "output_type": "execute_result",
          "data": {
            "text/plain": [
              "(8, [1, 1, 1, 1, 1, 1, 1, 1, 1, 1, 1, 1, 1, 1, 1])"
            ]
          },
          "metadata": {},
          "execution_count": 31
        }
      ]
    },
    {
      "cell_type": "code",
      "execution_count": 44,
      "metadata": {
        "colab": {
          "base_uri": "https://localhost:8080/"
        },
        "id": "0Wsy6U0T-MXP",
        "outputId": "7ce1e48d-9977-43c5-db05-af1dedcc1948"
      },
      "outputs": [
        {
          "output_type": "execute_result",
          "data": {
            "text/plain": [
              "(8, [0, 1, 1, 1, 1, 1, 0, 0, 0, 1, 0, 1, 0, 0, 1])"
            ]
          },
          "metadata": {},
          "execution_count": 44
        }
      ],
      "source": [
        "# As per youtube lecture by freeCodeCamp on greedy algorithm\n",
        "def bulbs(A):\n",
        "  cost = 0\n",
        "\n",
        "  for b in A:\n",
        "    if cost % 2 == 0: b == b\n",
        "    else: b = not b\n",
        "\n",
        "    if b % 2 == 1: continue\n",
        "    else: cost+= 1\n",
        "\n",
        "  return cost, A\n",
        "\n",
        "bulbs([0,1,1,1,1,1,0,0,0,1,0,1,0,0,1])"
      ]
    },
    {
      "cell_type": "code",
      "source": [
        "# my simplified solution gives result only in one loop without need of ant additional memory.\n",
        "\n",
        "def bulbs(A):\n",
        "  cost = 0 \n",
        "  find = 0\n",
        "  for i in A:\n",
        "    if i == find:\n",
        "      cost += 1\n",
        "      find = (find * -1) + 1\n",
        "  return cost, A\n",
        "\n",
        "bulbs([0,1,1,1,1,1,0,0,0,1,0,1,0,0,1])"
      ],
      "metadata": {
        "colab": {
          "base_uri": "https://localhost:8080/"
        },
        "id": "ZIY-TQ7mADG1",
        "outputId": "8be466ad-4b92-48a4-ba35-7e8e9750627d"
      },
      "execution_count": 45,
      "outputs": [
        {
          "output_type": "execute_result",
          "data": {
            "text/plain": [
              "(8, [0, 1, 1, 1, 1, 1, 0, 0, 0, 1, 0, 1, 0, 0, 1])"
            ]
          },
          "metadata": {},
          "execution_count": 45
        }
      ]
    }
  ]
}