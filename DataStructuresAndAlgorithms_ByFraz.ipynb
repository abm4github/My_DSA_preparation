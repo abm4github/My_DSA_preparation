{
  "nbformat": 4,
  "nbformat_minor": 0,
  "metadata": {
    "colab": {
      "provenance": [],
      "authorship_tag": "ABX9TyNzERltxTBYi5ODSgr6/sNA",
      "include_colab_link": true
    },
    "kernelspec": {
      "name": "python3",
      "display_name": "Python 3"
    },
    "language_info": {
      "name": "python"
    }
  },
  "cells": [
    {
      "cell_type": "markdown",
      "metadata": {
        "id": "view-in-github",
        "colab_type": "text"
      },
      "source": [
        "<a href=\"https://colab.research.google.com/github/abm4github/My_DSA_preparation/blob/main/DataStructuresAndAlgorithms_ByFraz.ipynb\" target=\"_parent\"><img src=\"https://colab.research.google.com/assets/colab-badge.svg\" alt=\"Open In Colab\"/></a>"
      ]
    },
    {
      "cell_type": "markdown",
      "source": [
        "##Day 1 (05-10-2022 ): Arrays and Vectors"
      ],
      "metadata": {
        "id": "ALE2bHh2oK1r"
      }
    },
    {
      "cell_type": "markdown",
      "source": [
        "####isPalindrome?"
      ],
      "metadata": {
        "id": "zfY8H5Xeroil"
      }
    },
    {
      "cell_type": "code",
      "execution_count": null,
      "metadata": {
        "colab": {
          "base_uri": "https://localhost:8080/",
          "height": 36
        },
        "id": "JvKmt8l_e0go",
        "outputId": "e1a75d26-1111-4dff-ef20-0131e0ecfa7e"
      },
      "outputs": [
        {
          "output_type": "execute_result",
          "data": {
            "text/plain": [
              "'PERFECT'"
            ],
            "application/vnd.google.colaboratory.intrinsic+json": {
              "type": "string"
            }
          },
          "metadata": {},
          "execution_count": 10
        }
      ],
      "source": [
        "def isPalindrome(s):\n",
        "  s = s.lower()\n",
        "  for i in range(len(s)//2):\n",
        "    if s[i] != s[len(s)-i-1]:\n",
        "      return \"NOT PERFECT\"\n",
        "  return \"PERFECT\"\n",
        "\n",
        "\n",
        "s = \"Malayalam\"\n",
        "isPalindrome(s)  "
      ]
    },
    {
      "cell_type": "markdown",
      "source": [
        "####Fitting The Array"
      ],
      "metadata": {
        "id": "IUUs6IO_rpa8"
      }
    },
    {
      "cell_type": "code",
      "source": [
        "def isFitting(arr, brr, n):\n",
        "  for i in range(len(arr)):\n",
        "    if sorted(arr)[i] > sorted(brr)[i]:\n",
        "      return \"NO\"\n",
        "  return \"YES\"\n",
        "\n",
        "isFitting(arr, brr, n)"
      ],
      "metadata": {
        "colab": {
          "base_uri": "https://localhost:8080/",
          "height": 36
        },
        "id": "1lTg8arZfnV3",
        "outputId": "f6d10455-ceb2-4603-afd2-499a800d549b"
      },
      "execution_count": null,
      "outputs": [
        {
          "output_type": "execute_result",
          "data": {
            "text/plain": [
              "'YES'"
            ],
            "application/vnd.google.colaboratory.intrinsic+json": {
              "type": "string"
            }
          },
          "metadata": {},
          "execution_count": 32
        }
      ]
    },
    {
      "cell_type": "code",
      "source": [
        "# Time limit exceeded\n",
        "# passed only 100 testcases out of several\n",
        "\n",
        "\n",
        "#User function Template for python3\n",
        "\n",
        "class Solution:\n",
        "    def isFit (self,arr, brr, n) : \n",
        "      for i in range(n):\n",
        "        if sorted(arr)[i] > sorted(brr)[i]:\n",
        "          return False\n",
        "      return True\n",
        "      \n",
        "#{ \n",
        " # Driver Code Starts\n",
        "#Initial Template for Python 3\n",
        "\n",
        "\n",
        "for _ in range(0,int(input())):\n",
        "    n = int(input())\n",
        "    arr = list(map(int, input().strip().split()))\n",
        "    brr = list(map(int, input().strip().split()))\n",
        "    a=Solution()\n",
        "    ans = a.isFit(arr, brr, n)\n",
        "    if(ans == True):\n",
        "        print(\"YES\")\n",
        "    else:\n",
        "        print(\"NO\")\n",
        "# } Driver Code Ends"
      ],
      "metadata": {
        "id": "X-OBOJxRD93D"
      },
      "execution_count": null,
      "outputs": []
    },
    {
      "cell_type": "markdown",
      "source": [
        "####Equilibrium index of an array"
      ],
      "metadata": {
        "id": "FHZ3Usb4rqPy"
      }
    },
    {
      "cell_type": "code",
      "source": [
        "# my method 1\n",
        "\n",
        "# Your task is to ocomplete this function\n",
        "# Function should return an integer\n",
        "def findEquilibrium(a,n):\n",
        "    # Code here\n",
        "    i = 0\n",
        "    j = n-1\n",
        "    i_sum = 0\n",
        "    j_sum = 0\n",
        "    while i < j:\n",
        "        while i_sum < j_sum:\n",
        "          i_sum += int(a[i])\n",
        "          i += 1\n",
        "        while i_sum > j_sum:\n",
        "          j_sum += int(a[j])\n",
        "          j -= 1\n",
        "        while i_sum == j_sum and (i < j):\n",
        "          i_sum += int(a[i])\n",
        "          j_sum += int(a[j])\n",
        "          i += 1\n",
        "          j -= 1\n",
        "    if i == j:\n",
        "        return i\n",
        "    else:\n",
        "        return -1\n",
        "#{ \n",
        " # Driver Code Starts\n",
        "# Driver Program\n",
        "if __name__=='__main__':\n",
        "    t = int(input())\n",
        "    for i in range(t):\n",
        "        n = int(input())\n",
        "        arr = list(map(int, input().strip().split()))\n",
        "        print(findEquilibrium(arr,n))\n",
        "# } Driver Code Ends"
      ],
      "metadata": {
        "colab": {
          "base_uri": "https://localhost:8080/"
        },
        "id": "mDQ-NLi5nbEN",
        "outputId": "0966eea3-9ac1-4b3c-a113-2569ede0e4bf"
      },
      "execution_count": null,
      "outputs": [
        {
          "output_type": "stream",
          "name": "stdout",
          "text": [
            "2\n",
            "4\n",
            "1 2 0 3\n",
            "2\n",
            "4\n",
            "1 1 1 1\n",
            "-1\n"
          ]
        }
      ]
    },
    {
      "cell_type": "code",
      "source": [
        "# my method 2\n",
        "\n",
        "# Your task is to ocomplete this function\n",
        "# Function should return an integer\n",
        "def findEquilibrium(a,n):\n",
        "    # Code here\n",
        "    rsum = sum(arr) - arr[0]\n",
        "    lsum = 0\n",
        "    for i in range(1,n):\n",
        "      if lsum != rsum:\n",
        "        rsum -= arr[i]\n",
        "        lsum += arr[i-1]\n",
        "      else:\n",
        "        return i-1\n",
        "    return -1\n",
        "      \n",
        "#{ \n",
        " # Driver Code Starts\n",
        "# Driver Program\n",
        "if __name__=='__main__':\n",
        "    t = int(input())\n",
        "    for i in range(t):\n",
        "        n = int(input())\n",
        "        arr = list(map(int, input().strip().split()))\n",
        "        print(findEquilibrium(arr,n))\n",
        "# } Driver Code Ends"
      ],
      "metadata": {
        "colab": {
          "base_uri": "https://localhost:8080/"
        },
        "id": "4qHKeUXLgml9",
        "outputId": "1157908c-4138-419d-cb17-9808e0bab2bc"
      },
      "execution_count": null,
      "outputs": [
        {
          "output_type": "stream",
          "name": "stdout",
          "text": [
            "2\n",
            "4\n",
            "1 2 0 3\n",
            "2\n",
            "4\n",
            "1 1 1 1\n",
            "-1\n"
          ]
        }
      ]
    },
    {
      "cell_type": "code",
      "source": [
        "# Fraz's method\n",
        "\n",
        "# Your task is to ocomplete this function\n",
        "# Function should return an integer\n",
        "def findEquilibrium(a,n):\n",
        "    # Code here\n",
        "    arrn = [arr[0]]\n",
        "    for i in range(1,n):\n",
        "      arrn.append(arrn[-1]+arr[i])\n",
        "    if arrn[-1] - arrn[0] == 0:\n",
        "      return 0\n",
        "    else:\n",
        "      for i in range(1,n-1):\n",
        "        if arrn[i-1] == arrn[i+1] - arr[i]:\n",
        "          return i\n",
        "    return -1\n",
        "        \n",
        "#{ \n",
        " # Driver Code Starts\n",
        "# Driver Program\n",
        "if __name__=='__main__':\n",
        "    t = int(input())\n",
        "    for i in range(t):\n",
        "        n = int(input())\n",
        "        arr = list(map(int, input().strip().split()))\n",
        "        print(findEquilibrium(arr,n))\n",
        "# } Driver Code Ends"
      ],
      "metadata": {
        "colab": {
          "base_uri": "https://localhost:8080/"
        },
        "id": "jQ8bmuNdiQRP",
        "outputId": "3c787b30-cadd-4196-e28f-8b2693ac17f6"
      },
      "execution_count": null,
      "outputs": [
        {
          "output_type": "stream",
          "name": "stdout",
          "text": [
            "1\n",
            "4\n",
            "1 0 -1 10\n",
            "-1\n"
          ]
        }
      ]
    },
    {
      "cell_type": "code",
      "source": [
        "def findEquilibrium(a,n):\n",
        "    # Code here\n",
        "    arrn = [arr[0]]\n",
        "    for i in range(1,n):\n",
        "      arrn.append(arrn[-1]+arr[i])\n",
        "    print(arrn)  \n",
        "\n",
        "findEquilibrium([1,1,1,1],4)"
      ],
      "metadata": {
        "colab": {
          "base_uri": "https://localhost:8080/"
        },
        "id": "xceoDg4blgjU",
        "outputId": "ae5d4637-101a-4fa0-da4c-5558b359d67b"
      },
      "execution_count": null,
      "outputs": [
        {
          "output_type": "stream",
          "name": "stdout",
          "text": [
            "[1, 2, 3, 4]\n"
          ]
        }
      ]
    },
    {
      "cell_type": "markdown",
      "source": [
        "##Day 3 Pionters"
      ],
      "metadata": {
        "id": "px6bfLnoL4Px"
      }
    },
    {
      "cell_type": "code",
      "source": [
        "arr = [1,5,6,9,15,2,8,3,4,11]\n",
        "for i in range(len(arr)):\n",
        "  for j in range(i+1, len(arr)):\n",
        "    if arr[i] + arr[j] == 17:\n",
        "      print([arr[i],arr[j]])\n"
      ],
      "metadata": {
        "id": "8zWmjEsPlsf8",
        "colab": {
          "base_uri": "https://localhost:8080/"
        },
        "outputId": "8bc18932-807d-4234-cd7d-1af3d83e9a8b"
      },
      "execution_count": null,
      "outputs": [
        {
          "output_type": "stream",
          "name": "stdout",
          "text": [
            "[6, 11]\n",
            "[9, 8]\n",
            "[15, 2]\n"
          ]
        }
      ]
    },
    {
      "cell_type": "code",
      "source": [
        "arr = [1,5,6,9,15,2,8,3,4,11]\n",
        "d = {}\n",
        "for i in arr:\n",
        "  if 17-i not in d.keys():\n",
        "    if i not in d.keys():\n",
        "      d[i] = 0\n",
        "    d[i] += 1\n",
        "  else:\n",
        "    print(i, 17-i)\n"
      ],
      "metadata": {
        "colab": {
          "base_uri": "https://localhost:8080/"
        },
        "id": "q-6o6_lYPU8q",
        "outputId": "9063daae-0ed1-49a4-d68a-3d02735f39c8"
      },
      "execution_count": null,
      "outputs": [
        {
          "output_type": "stream",
          "name": "stdout",
          "text": [
            "2 15\n",
            "8 9\n",
            "11 6\n"
          ]
        }
      ]
    },
    {
      "cell_type": "code",
      "source": [
        "arr = [1,5,6,9,15,2,8,3,4,11]\n",
        "\n",
        "s = 0\n",
        "e = len(arr)-1\n",
        "\n",
        "while s < e:\n",
        "  if sorted(arr)[s] + sorted(arr)[e] < 17:\n",
        "    s += 1\n",
        "  elif sorted(arr)[s] + sorted(arr)[e] > 17:\n",
        "    e -= 1\n",
        "  elif sorted(arr)[s] + sorted(arr)[e] == 17:\n",
        "    print(sorted(arr)[s], sorted(arr)[e])\n",
        "    s += 1\n",
        "    e -= 1"
      ],
      "metadata": {
        "colab": {
          "base_uri": "https://localhost:8080/"
        },
        "id": "Tlywx7CHT94X",
        "outputId": "61f5d431-f796-4167-d089-0f50da23c192"
      },
      "execution_count": null,
      "outputs": [
        {
          "output_type": "stream",
          "name": "stdout",
          "text": [
            "2 15\n",
            "6 11\n",
            "8 9\n"
          ]
        }
      ]
    },
    {
      "cell_type": "markdown",
      "source": [
        "####Triplet sum in array"
      ],
      "metadata": {
        "id": "gKvNUTukfcID"
      }
    },
    {
      "cell_type": "code",
      "source": [
        "def TripletSumArray(arr, n):\n",
        "  arr = sorted(arr)\n",
        "  s1 = 0\n",
        "  s = 1\n",
        "  e = len(arr)-1\n",
        "\n",
        "  for i in range(len(arr)):\n",
        "    s = i+1\n",
        "    e = len(arr)-1\n",
        "    while s < e:\n",
        "      if arr[s] + arr[e] < n-arr[i]:\n",
        "        s += 1\n",
        "      elif arr[s] + arr[e] > n-arr[i]:\n",
        "        e -= 1\n",
        "      elif arr[s] + arr[e] == n-arr[i]:\n",
        "        print(arr[i],arr[s],arr[e])\n",
        "        s += 1\n",
        "        e -= 1\n",
        "\n",
        "\n",
        "arr = [1,2,3,4,5,6,8,9,11,15]\n",
        "n = 10\n",
        "TripletSumArray(arr, n)\n"
      ],
      "metadata": {
        "colab": {
          "base_uri": "https://localhost:8080/"
        },
        "id": "znHy_dmMXVUs",
        "outputId": "3ec71bea-0f71-4827-cbe8-2e705800a552"
      },
      "execution_count": 1,
      "outputs": [
        {
          "output_type": "stream",
          "name": "stdout",
          "text": [
            "1 3 6\n",
            "1 4 5\n",
            "2 3 5\n"
          ]
        }
      ]
    },
    {
      "cell_type": "markdown",
      "source": [
        "![image.png](data:image/png;base64,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)"
      ],
      "metadata": {
        "id": "wYZANv3QgA6n"
      }
    },
    {
      "cell_type": "code",
      "source": [
        "arr = [2,4,4,2,4]\n"
      ],
      "metadata": {
        "id": "m2kY3kQ1YPc9"
      },
      "execution_count": null,
      "outputs": []
    }
  ]
}